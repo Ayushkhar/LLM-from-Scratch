{
 "cells": [
  {
   "cell_type": "markdown",
   "id": "1d85f6a0",
   "metadata": {},
   "source": [
    "#Creating input target pairs"
   ]
  },
  {
   "cell_type": "code",
   "execution_count": 6,
   "id": "32687798",
   "metadata": {},
   "outputs": [],
   "source": [
    "class SimpleTokenizerV2:\n",
    "    def __init__(self,vocab):\n",
    "        self.str_to_int = vocab\n",
    "        self.int_to_str = { i:s for s,i in vocab.items()}\n",
    "    def encode(self,text):\n",
    "        preprocessed = preprocessed = re.split(r'([,.:;?_!\"()\\']|--|\\s)',text)\n",
    "        preprocessed = [item.strip() for item in preprocessed if item.split()]\n",
    "        preprocessed = [\n",
    "            item if item in self.str_to_int\n",
    "            else \"|unk|\" for item in preprocessed\n",
    "        ]\n",
    "\n",
    "        ids = [self.str_to_int[s] for s in preprocessed]\n",
    "        return ids\n",
    "    def decode(self,ids):\n",
    "        text = \" \".join([self.int_to_str[i] for i in ids])\n",
    "        #Replace spaces before the specified punctuations\n",
    "        text = re.sub(r'\\s+([,.?!\"()\\'])',r'\\1', text)\n",
    "        return text"
   ]
  },
  {
   "cell_type": "code",
   "execution_count": 7,
   "id": "e7065540",
   "metadata": {},
   "outputs": [
    {
     "name": "stdout",
     "output_type": "stream",
     "text": [
      "tiktoken version: 0.11.0\n"
     ]
    }
   ],
   "source": [
    "import importlib\n",
    "import tiktoken\n",
    "\n",
    "print(\"tiktoken version:\", importlib.metadata.version(\"tiktoken\"))"
   ]
  },
  {
   "cell_type": "code",
   "execution_count": 8,
   "id": "b2885248",
   "metadata": {},
   "outputs": [],
   "source": [
    "tokenizer = tiktoken.get_encoding(\"gpt2\")"
   ]
  },
  {
   "cell_type": "code",
   "execution_count": 9,
   "id": "3c7352be",
   "metadata": {},
   "outputs": [
    {
     "name": "stdout",
     "output_type": "stream",
     "text": [
      "5145\n"
     ]
    }
   ],
   "source": [
    "with open(r\"D:\\Machine Learning\\LLM from Scratch\\the-verdict.txt\",\"r\",encoding = \"utf-8\") as f:\n",
    "    raw_text = f.read()\n",
    "\n",
    "enc_text = tokenizer.encode(raw_text)\n",
    "print(len(enc_text))\n"
   ]
  },
  {
   "cell_type": "markdown",
   "id": "8ee21094",
   "metadata": {},
   "source": [
    "#We will remove the first 50 tokens from the dataset for demonstrationm purpose as it results into something interseting"
   ]
  },
  {
   "cell_type": "code",
   "execution_count": 10,
   "id": "96268741",
   "metadata": {},
   "outputs": [],
   "source": [
    "enc_sample = enc_text[50:]"
   ]
  },
  {
   "cell_type": "code",
   "execution_count": 11,
   "id": "e17f05f4",
   "metadata": {},
   "outputs": [
    {
     "name": "stdout",
     "output_type": "stream",
     "text": [
      "x: [290, 4920, 2241, 287]\n",
      "y:    [4920, 2241, 287, 257]\n"
     ]
    }
   ],
   "source": [
    "#The context size determines how many tokens are included in the input\n",
    "context_size = 4 #(Length of the input)\n",
    "#The context size of 4 means that the model is trained to look at a sequence of 4 words(or tokens)\n",
    "#The input x is 4 tokens[1,2,3,4] and the target y is the next 4 tokens [2,3,4,5]\n",
    "\n",
    "x = enc_sample[:context_size]\n",
    "y = enc_sample[1:context_size+1]\n",
    "\n",
    "print(f\"x: {x}\")\n",
    "print(f\"y:    {y}\")"
   ]
  },
  {
   "cell_type": "markdown",
   "id": "d3eb0363",
   "metadata": {},
   "source": [
    "# processing the input along with the targets hich are the inputs shifted by one position we can then create the next word prediction tasks:"
   ]
  },
  {
   "cell_type": "code",
   "execution_count": 12,
   "id": "bf017341",
   "metadata": {},
   "outputs": [
    {
     "name": "stdout",
     "output_type": "stream",
     "text": [
      "Four prediction Tasks: \n",
      "[290] ---> 4920\n",
      "[290, 4920] ---> 2241\n",
      "[290, 4920, 2241] ---> 287\n",
      "[290, 4920, 2241, 287] ---> 257\n"
     ]
    }
   ],
   "source": [
    "print(\"Four prediction Tasks: \")\n",
    "for i in range(1,context_size+1):\n",
    "    context = enc_sample[:i]\n",
    "    desired = enc_sample[i]\n",
    "\n",
    "    print(context,\"--->\",desired)"
   ]
  },
  {
   "cell_type": "code",
   "execution_count": 13,
   "id": "1eb81fc8",
   "metadata": {},
   "outputs": [
    {
     "name": "stdout",
     "output_type": "stream",
     "text": [
      " and --->  established\n",
      " and established --->  himself\n",
      " and established himself --->  in\n",
      " and established himself in --->  a\n"
     ]
    }
   ],
   "source": [
    "# Now same thing is with the text as well\n",
    "for i in range(1,context_size+1):\n",
    "    context = enc_sample[:i]\n",
    "    desired = enc_sample[i]\n",
    "\n",
    "    print(tokenizer.decode(context),\"--->\",tokenizer.decode([desired]))"
   ]
  },
  {
   "cell_type": "markdown",
   "id": "3ae7b9af",
   "metadata": {},
   "source": [
    "#Implementing the dataloader"
   ]
  },
  {
   "cell_type": "code",
   "execution_count": 14,
   "id": "ac84960e",
   "metadata": {},
   "outputs": [],
   "source": [
    "#For efficient data loader implementation we will use Pytorchs built in dataset and dataloader classes\n",
    "\n",
    "#Tokenize the entire text\n",
    "#Use a sliding window to chunk the book into overlapping seq of max_length\n",
    "#Return the total number of rows in the dataset\n",
    "#Return the single ow from the dataset"
   ]
  },
  {
   "cell_type": "code",
   "execution_count": null,
   "id": "d718db95",
   "metadata": {},
   "outputs": [],
   "source": [
    "import torch\n",
    "from torch.utils.data import Dataset, DataLoader\n",
    "\n",
    "class GPTDatasetV1(Dataset):\n",
    "    def __init__(self,txt,tokenizer,max_length,stride):\n",
    "        self.input_ids = []\n",
    "        self.target_ids = []\n",
    "\n",
    "        #Tokenize the entire text\n",
    "        token_ids = tokenizer.encode(txt, allowed_special={\"<|endoftext|>\"})\n",
    "\n",
    "\n",
    "        #USing a sliding window approach\n",
    "        for i in range(0, len(token_ids) - max_length, stride):\n",
    "            input_chunk = token_ids[i:i + max_length]\n",
    "            target_chunk = token_ids[i + 1 : i + max_length + 1]\n",
    "            self.input_ids.append(torch.tensor(input_chunk))\n",
    "            \n",
    "            self.target_ids.append(torch.tensor(target_chunk))\n",
    "\n",
    "    def __len__(self):\n",
    "        return len(self.input_ids)\n",
    "    \n",
    "\n",
    "    def __getitem__(self,idx):\n",
    "\n",
    "        return self.input_ids[idx], self.target_ids[idx]\n",
    "    \n"
   ]
  },
  {
   "cell_type": "code",
   "execution_count": 33,
   "id": "825ef4e7",
   "metadata": {},
   "outputs": [],
   "source": [
    "#Now we will use the following code that will use the GPTDatasetv1 to load the input s in batches via a pytorch dataloder\n",
    "def create_dataloader_v1(txt,batch_size = 4,max_length = 256,stride = 128, shuffle = True, drop_last = True, num_worker = 0):\n",
    "\n",
    "    tokenizer = tiktoken.get_encoding(\"gpt2\")\n",
    "\n",
    "    #Create dataset\n",
    "    dataset = GPTDatasetV1(txt,tokenizer, max_length, stride)\n",
    "\n",
    "    #Create dataloader\n",
    "    dataloader = DataLoader(\n",
    "        dataset,\n",
    "        batch_size = batch_size,\n",
    "        shuffle = shuffle,\n",
    "        drop_last = drop_last,\n",
    "        num_workers = num_worker\n",
    "    )\n",
    "\n",
    "    return dataloader\n",
    "\n"
   ]
  },
  {
   "cell_type": "code",
   "execution_count": 34,
   "id": "9b396a03",
   "metadata": {},
   "outputs": [],
   "source": [
    "with open(r\"D:\\Machine Learning\\LLM from Scratch\\the-verdict.txt\",\"r\",encoding=\"utf-8\") as f:\n",
    "    raw_text = f.read()"
   ]
  },
  {
   "cell_type": "code",
   "execution_count": 36,
   "id": "5f9f3ec1",
   "metadata": {},
   "outputs": [
    {
     "name": "stdout",
     "output_type": "stream",
     "text": [
      "Pytorch version: 2.5.1+cu121\n",
      "[tensor([[  40,  367, 2885, 1464]]), tensor([[ 367, 2885, 1464, 1807]])]\n"
     ]
    }
   ],
   "source": [
    "#Convert the dataloader into the python iterator to fetch the next entry via python built in next() function\n",
    "import torch\n",
    "from torch.utils.data import Dataset, DataLoader\n",
    "print(\"Pytorch version:\", torch.__version__)\n",
    "Dataloader = create_dataloader_v1(\n",
    "    raw_text, batch_size = 1, max_length = 4, stride = 1, shuffle = False\n",
    ")\n",
    "\n",
    "data_iter = iter(Dataloader)\n",
    "first_batch = next(data_iter)\n",
    "print(first_batch)"
   ]
  },
  {
   "cell_type": "code",
   "execution_count": 37,
   "id": "fb169a81",
   "metadata": {},
   "outputs": [
    {
     "name": "stdout",
     "output_type": "stream",
     "text": [
      "Inputs:\n",
      " tensor([[   40,   367,  2885,  1464],\n",
      "        [ 1807,  3619,   402,   271],\n",
      "        [10899,  2138,   257,  7026],\n",
      "        [15632,   438,  2016,   257],\n",
      "        [  922,  5891,  1576,   438],\n",
      "        [  568,   340,   373,   645],\n",
      "        [ 1049,  5975,   284,   502],\n",
      "        [  284,  3285,   326,    11]])\n",
      "\n",
      "Targets:\n",
      " tensor([[  367,  2885,  1464,  1807],\n",
      "        [ 3619,   402,   271, 10899],\n",
      "        [ 2138,   257,  7026, 15632],\n",
      "        [  438,  2016,   257,   922],\n",
      "        [ 5891,  1576,   438,   568],\n",
      "        [  340,   373,   645,  1049],\n",
      "        [ 5975,   284,   502,   284],\n",
      "        [ 3285,   326,    11,   287]])\n"
     ]
    }
   ],
   "source": [
    "#If batch size > 1\n",
    "dataloader = create_dataloader_v1(raw_text, batch_size=8, max_length=4, stride=4, shuffle=False)\n",
    "\n",
    "data_iter = iter(dataloader)\n",
    "inputs, targets = next(data_iter)\n",
    "print(\"Inputs:\\n\",inputs)\n",
    "print(\"\\nTargets:\\n\",targets)"
   ]
  },
  {
   "cell_type": "code",
   "execution_count": null,
   "id": "9bc55ba4",
   "metadata": {},
   "outputs": [],
   "source": []
  },
  {
   "cell_type": "code",
   "execution_count": null,
   "id": "faf80cc5",
   "metadata": {},
   "outputs": [],
   "source": []
  }
 ],
 "metadata": {
  "kernelspec": {
   "display_name": "Python 3",
   "language": "python",
   "name": "python3"
  },
  "language_info": {
   "codemirror_mode": {
    "name": "ipython",
    "version": 3
   },
   "file_extension": ".py",
   "mimetype": "text/x-python",
   "name": "python",
   "nbconvert_exporter": "python",
   "pygments_lexer": "ipython3",
   "version": "3.11.0"
  }
 },
 "nbformat": 4,
 "nbformat_minor": 5
}
